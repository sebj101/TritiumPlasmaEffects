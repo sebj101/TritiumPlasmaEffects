{
 "cells": [
  {
   "cell_type": "markdown",
   "metadata": {},
   "source": [
    "# Electron-ion speeds\n",
    "S. Jones (26/09/24)"
   ]
  },
  {
   "cell_type": "code",
   "execution_count": 49,
   "metadata": {},
   "outputs": [],
   "source": [
    "import numpy as np\n",
    "import matplotlib.pyplot as plt\n",
    "import scipy.constants as const"
   ]
  },
  {
   "cell_type": "code",
   "execution_count": 50,
   "metadata": {},
   "outputs": [],
   "source": [
    "# Make matplotlib figures better and allow latex\n",
    "plt.rcParams['text.usetex'] = True\n",
    "# Make figures bigger\n",
    "plt.rcParams['figure.figsize'] = (7, 5)\n",
    "# Make font sizes bigger\n",
    "plt.rcParams.update({'font.size': 14})"
   ]
  },
  {
   "cell_type": "code",
   "execution_count": 51,
   "metadata": {},
   "outputs": [],
   "source": [
    "from src.Rudd1991 import RuddXSec\n",
    "from src.Mott import MottXSec"
   ]
  },
  {
   "cell_type": "code",
   "execution_count": 52,
   "metadata": {},
   "outputs": [],
   "source": [
    "ENDPOINTE = 18575. # eV\n",
    "energyArr = np.logspace(0, np.log10(ENDPOINTE), 1000)\n",
    "gammaArr = energyArr / (const.m_e * const.c**2 / const.e) + 1.0\n",
    "vArr = np.sqrt(1 - 1 / gammaArr**2) * const.c"
   ]
  },
  {
   "cell_type": "code",
   "execution_count": null,
   "metadata": {},
   "outputs": [],
   "source": [
    "plt.figure(figsize=(14, 5))\n",
    "plt.subplot(1, 2, 1)\n",
    "plt.plot(energyArr, gammaArr)\n",
    "plt.xscale('log')\n",
    "plt.xlabel('Energy [eV]')\n",
    "plt.ylabel(r'$\\gamma$')\n",
    "plt.xlim(1, ENDPOINTE)\n",
    "\n",
    "plt.subplot(1, 2, 2)\n",
    "plt.loglog(energyArr, vArr)\n",
    "plt.xlabel('Energy [eV]')\n",
    "plt.ylabel(r'$v$ [m/s]')\n",
    "plt.xlim(1, ENDPOINTE)\n",
    "plt.show()"
   ]
  },
  {
   "cell_type": "code",
   "execution_count": null,
   "metadata": {},
   "outputs": [],
   "source": [
    "LENGTH = 1.0 # m\n",
    "pitchAngleArr = np.linspace(0, 89.8 * np.pi / 180, 150)\n",
    "plt.figure()\n",
    "plt.plot(pitchAngleArr * 180 / np.pi, LENGTH / (vArr[0] * np.cos(pitchAngleArr)),\n",
    "         label=fr'$E = {energyArr[0]:.0f}$ eV')\n",
    "plt.plot(pitchAngleArr * 180 / np.pi, LENGTH / (vArr[305] * np.cos(pitchAngleArr)),\n",
    "         label=fr'$E = {energyArr[305]:.0f}$ eV')\n",
    "plt.plot(pitchAngleArr * 180 / np.pi, LENGTH / (vArr[-1] * np.cos(pitchAngleArr)),\n",
    "         label=fr'$E = {energyArr[-1]:.0f}$ eV')\n",
    "\n",
    "plt.yscale('log')\n",
    "plt.ylabel(r'$t$ [s]')\n",
    "plt.xlabel('Pitch angle [degrees]')\n",
    "plt.xlim(0, 90)\n",
    "plt.title(\"Traversing a 1 m length\")\n",
    "plt.legend()\n",
    "\n",
    "TATOMDENS = 1e18 # m^-3\n",
    "tau_1eV = 1. / (TATOMDENS * (RuddXSec(energyArr[0]).TotalXSec() + MottXSec(energyArr[0]).TotalXSec()) * vArr[0])\n",
    "plt.axhline(y=tau_1eV, color='tab:blue', linestyle='--')\n",
    "tau_20eV = 1. / (TATOMDENS * (RuddXSec(energyArr[305]).TotalXSec() + MottXSec(energyArr[305]).TotalXSec()) * vArr[305])\n",
    "plt.axhline(y=tau_20eV, color='tab:orange', linestyle='--')\n",
    "tau_endpoint =  1. / (TATOMDENS * (RuddXSec(energyArr[-1]).TotalXSec() + MottXSec(energyArr[-1]).TotalXSec()) * vArr[-1])\n",
    "plt.axhline(y=tau_endpoint, color='tab:green', linestyle='--')\n",
    "\n",
    "plt.show()"
   ]
  }
 ],
 "metadata": {
  "kernelspec": {
   "display_name": "Python 3",
   "language": "python",
   "name": "python3"
  },
  "language_info": {
   "codemirror_mode": {
    "name": "ipython",
    "version": 3
   },
   "file_extension": ".py",
   "mimetype": "text/x-python",
   "name": "python",
   "nbconvert_exporter": "python",
   "pygments_lexer": "ipython3",
   "version": "3.12.3"
  }
 },
 "nbformat": 4,
 "nbformat_minor": 2
}
